{
 "cells": [
  {
   "cell_type": "code",
   "execution_count": 672,
   "id": "generic-accident",
   "metadata": {},
   "outputs": [
    {
     "data": {
      "text/plain": [
       "'pt_BR.utf8'"
      ]
     },
     "execution_count": 672,
     "metadata": {},
     "output_type": "execute_result"
    }
   ],
   "source": [
    "# Import das bibliotecas utilizadas \n",
    "import pandas as pd\n",
    "import numpy as np\n",
    "from datetime import datetime\n",
    "import locale\n",
    "import pygsheets\n",
    "locale.setlocale(locale.LC_ALL, 'pt_BR.utf8')"
   ]
  },
  {
   "cell_type": "code",
   "execution_count": 673,
   "id": "advance-system",
   "metadata": {},
   "outputs": [],
   "source": [
    "# Criação das tabelas (dataframes) a partir dos arquivos csv Companies, Payables, Transactions e TransactioOperations\n",
    "df_companies = pd.read_csv('csv/Companies.csv')\n",
    "df_payables = pd.read_csv('csv/Payables.csv')\n",
    "df_transaction_operations = pd.read_csv('csv/TransactionOperations.csv')\n",
    "df_transactions = pd.read_csv('csv/Transactions.csv')"
   ]
  },
  {
   "cell_type": "code",
   "execution_count": 674,
   "id": "incorporate-involvement",
   "metadata": {},
   "outputs": [],
   "source": [
    "# Deixando apenas transações de cartão de débito e crédito\n",
    "df_transactions = df_transactions.loc[df_transactions['payment_method'].isin(['credit_card', 'debit_card'])]"
   ]
  },
  {
   "cell_type": "code",
   "execution_count": 675,
   "id": "finite-drink",
   "metadata": {},
   "outputs": [],
   "source": [
    "# Função para converter datas\n",
    "def timezone_local(dt):\n",
    "    try:\n",
    "        return pd.to_datetime(dt).tz_localize('GMT').tz_convert('America/Sao_Paulo').tz_localize(None)\n",
    "    except:\n",
    "        return pd.to_datetime(dt).tz_convert('America/Sao_Paulo').tz_localize(None)"
   ]
  },
  {
   "cell_type": "code",
   "execution_count": 676,
   "id": "equivalent-acting",
   "metadata": {},
   "outputs": [],
   "source": [
    "# Converte os campos de data, de todas as tabelas, para timezone 'America/Sao_Paulo'\n",
    "df_transactions['transaction_created_at'] = df_transactions['transaction_created_at'].apply(timezone_local)\n",
    "df_transactions['transaction_updated_at'] = df_transactions['transaction_updated_at'].apply(timezone_local)\n",
    "\n",
    "df_transaction_operations['transaction_operation_created_at'] = df_transaction_operations['transaction_operation_created_at'].apply(timezone_local)\n",
    "\n",
    "df_companies['company_created_at'] = df_companies['company_created_at'].apply(timezone_local)\n",
    "\n",
    "df_payables['payable_created_at'] = df_payables['payable_created_at'].apply(timezone_local)"
   ]
  },
  {
   "cell_type": "code",
   "execution_count": 677,
   "id": "hairy-ranch",
   "metadata": {},
   "outputs": [],
   "source": [
    "#Criação do campo Installments_range\n",
    "conditions_installments_range = [\n",
    "    (df_transactions['transaction_installments'].isin([2,3,4,5,6])),\n",
    "    (df_transactions['transaction_installments'].isin([7,8,9,10,11,12]))    \n",
    "]\n",
    "choices_installments_range = ['2-6', '7-12']\n",
    "df_transactions['installments_range'] = np.select(conditions_installments_range, choices_installments_range, default=\"a vista\") "
   ]
  },
  {
   "cell_type": "code",
   "execution_count": 678,
   "id": "realistic-inspector",
   "metadata": {},
   "outputs": [],
   "source": [
    "# Lista de transaction_id que estão na Payables para identificar se a transação é psp ou gateway\n",
    "list_transactions_in_payables = df_payables['transaction_id'].unique().tolist()\n",
    "\n",
    "# Criação do campo product_name\n",
    "df_transactions['product_name'] = np.where(df_transactions['transaction_id'].isin(list_transactions_in_payables), 'psp', 'gateway')"
   ]
  },
  {
   "cell_type": "code",
   "execution_count": 679,
   "id": "adjacent-responsibility",
   "metadata": {},
   "outputs": [],
   "source": [
    "# Agrupamento da tabela payables por transaction_id e type, somando os campos amount e fee, e buscando a menor data para o campo payable_created_at\n",
    "payables_group = df_payables.groupby(['transaction_id','type'], as_index=False).agg({'payable_created_at': np.min, 'amount': np.sum, 'fee': np.sum })"
   ]
  },
  {
   "cell_type": "code",
   "execution_count": 680,
   "id": "frozen-milan",
   "metadata": {},
   "outputs": [],
   "source": [
    "# Tabela Payables:\n",
    "# type (varchar): Tipo da operação financeira (credit, chargeback, chargeback_refund e refund). \n",
    "# O tipo credit é usado para todas as transações de cartão que são capturadas e para todos os boletos que são conciliados;\n",
    "#\n",
    "# Conforme informado na descrição da tabela payables, tipo credit é usada para transações capturadas. vou considerar credit como capture\n",
    "payables_group.loc[payables_group['type'] == 'credit', 'type'] = 'capture'\n",
    "\n",
    "# Criação do campo financial_operation_type\n",
    "# Por enquanto apenas as transações psp, encontradas na tabela Payables, terão esse campo preenchido.\n",
    "payables_group.rename(columns={'type':'financial_operation_type'}, inplace=True)\n",
    "\n",
    "# OBS:\n",
    "# Uma dúvida que surgiu, foi sobre o campo financial_operation_type.. de onde vinha essa informação\n",
    "# Pelo pouco conhecimento do negócio e considerando as descrições dos campos das tabelas, no documento do case, \n",
    "# utilizei para transações psp, a tabela Payables, campo type. Para transações gateway, tabela TransactioOperations, campo type."
   ]
  },
  {
   "cell_type": "code",
   "execution_count": 681,
   "id": "labeled-ceramic",
   "metadata": {},
   "outputs": [],
   "source": [
    "# join entre transactions e a tabela agrupada payables\n",
    "df_transactions_join_payables = pd.merge(\n",
    "    df_transactions,\n",
    "    payables_group,\n",
    "    how=\"left\",\n",
    "    left_on=[\"transaction_id\"], \n",
    "    right_on=[\"transaction_id\"]\n",
    ")"
   ]
  },
  {
   "cell_type": "code",
   "execution_count": 682,
   "id": "italic-research",
   "metadata": {},
   "outputs": [],
   "source": [
    "# Removendo transações no status refused\n",
    "df_transactions_join_payables = df_transactions_join_payables.loc[df_transactions_join_payables['status'] != 'refused']"
   ]
  },
  {
   "cell_type": "code",
   "execution_count": 683,
   "id": "ancient-tackle",
   "metadata": {},
   "outputs": [],
   "source": [
    "# Lista das transações que não possuem financial_operation_type\n",
    "transaction_ids = df_transactions_join_payables.loc[df_transactions_join_payables['financial_operation_type'].isna()]['transaction_id'].unique().tolist()\n",
    "\n",
    "# Agrupando a tabela transacionOperations, com as transações selecionadas acima\n",
    "transaction_operations_group = df_transaction_operations.loc[(df_transaction_operations['transaction_id'].isin(transaction_ids)) \n",
    "                            & (df_transaction_operations['type'] != 'authorize')].groupby(\n",
    "    ['transaction_id','type', 'acquirer_name'], as_index=False).agg({'transaction_operation_created_at': np.min})"
   ]
  },
  {
   "cell_type": "code",
   "execution_count": 684,
   "id": "terminal-maker",
   "metadata": {},
   "outputs": [],
   "source": [
    "# Remove transações que não foram capturados\n",
    "list_transaction_ids_capture = transaction_operations_group.loc[transaction_operations_group['type'] == 'capture']['transaction_id'].unique().tolist()\n",
    "transaction_operations_group = transaction_operations_group.loc[transaction_operations_group['transaction_id'].isin(list_transaction_ids_capture)]"
   ]
  },
  {
   "cell_type": "code",
   "execution_count": 685,
   "id": "ignored-arizona",
   "metadata": {},
   "outputs": [],
   "source": [
    "# Join para buscar os financial_operation_type das transações que não são psp\n",
    "df_joins = pd.merge(\n",
    "    df_transactions_join_payables,\n",
    "    transaction_operations_group,\n",
    "    how=\"left\",\n",
    "    left_on=[\"transaction_id\"], \n",
    "    right_on=[\"transaction_id\"]\n",
    ")"
   ]
  },
  {
   "cell_type": "code",
   "execution_count": 686,
   "id": "athletic-cleveland",
   "metadata": {},
   "outputs": [],
   "source": [
    "# Selecionando os campos após o join\n",
    "# Campo transaction_amount, para transações encontradas na tabela payables (psp) utilizou o valor amount da Payables\n",
    "# Transações gateway, utilizou o amount da transaction\n",
    "df_joins['transaction_amount'] = np.where(df_joins['amount_y'].isna, df_joins['amount_x'], df_joins['amount_y'])\n",
    "\n",
    "# Campo acquirer_name, para transações gateway, utilizei o acquirer_name da tabela TransactioOperations\n",
    "# Transações psp utilizaram o campo acquirer_name da transaction\n",
    "df_joins['acquirer_name'] = np.where(df_joins['acquirer_name_y'].isna, df_joins['acquirer_name_x'], df_joins['acquirer_name_y'])\n",
    "\n",
    "# Campo created_at, para transações psp, foi utilizada a menor data do campo payable_created_at, da tabela Payables\n",
    "# Para transações gateway, foi utilizado a menor data do campo transaction_operation_created_at, da tabela TransactioOperations\n",
    "df_joins['created_at'] = np.where(df_joins['transaction_operation_created_at'].isna, df_joins['payable_created_at'], df_joins['transaction_operation_created_at'])\n",
    "\n",
    "# Campo financial_operation_type, para psp utilizado o type, da tabela Payables\n",
    "# Para gateway, utilizado o type da TransactioOperations\n",
    "df_joins['financial_operation_type'] = np.where(df_joins['type'].isna, df_joins['financial_operation_type'], df_joins['type'])\n",
    "\n",
    "# Alteração de nome fee (tabela Payables), para mdr_fee, para transações psp\n",
    "df_joins.rename(columns={'fee':'mdr_fee'}, inplace=True)\n",
    "\n",
    "# Colocando os valores nulos do campo mdr_fee como 0 (zero), para transações gateway \n",
    "df_joins['mdr_fee'] = df_joins['mdr_fee'].fillna(0)"
   ]
  },
  {
   "cell_type": "code",
   "execution_count": 687,
   "id": "innovative-favorite",
   "metadata": {},
   "outputs": [],
   "source": [
    "# 4. Para operações financeiras que indiquem \"entrada\" de receita (capture e\n",
    "# chargeback_refund), os indicadores mdr_fee e transaction_amount deverão ser positivos.\n",
    "# Para operações financeiras que indiquem \"saída\" de receita (refund e chargeback), tais\n",
    "# indicadores deverão ser negativos. Assim, se somarmos todas as entradas para uma\n",
    "# mesma transação, teremos o valor que será liquidado para o cliente de fato.\n",
    "\n",
    "# Aplicando regra acima\n",
    "df_joins['transaction_amount'] = np.where(df_joins['financial_operation_type'].isin(['capture', 'chargeback_refund']), \n",
    "                                          abs(df_joins['transaction_amount']), abs(df_joins['transaction_amount']) * -1)\n",
    "df_joins['mdr_fee'] = np.where(df_joins['financial_operation_type'].isin(['capture', 'chargeback_refund']), \n",
    "                                          abs(df_joins['mdr_fee']), abs(df_joins['mdr_fee']) * -1)"
   ]
  },
  {
   "cell_type": "code",
   "execution_count": 688,
   "id": "genetic-proceeding",
   "metadata": {},
   "outputs": [],
   "source": [
    "# 5. Considere que não há devolução da taxa de gateway em caso de estorno ou chargeback.\n",
    "# Portanto, a taxa de gateway deve ser apenas contabilizada na operação financeira de\n",
    "# captura (capture), permanecendo zerada para outras operações financeiras.\n",
    "\n",
    "# Aplicando regra acima\n",
    "df_joins['gateway_fee'] = np.where(df_joins['financial_operation_type'] == 'capture', df_joins['gateway_fee'], 0)"
   ]
  },
  {
   "cell_type": "code",
   "execution_count": 689,
   "id": "prerequisite-trauma",
   "metadata": {},
   "outputs": [],
   "source": [
    "# Incluindo campos de data solicitados\n",
    "df_joins['day_of_week'] = df_joins['created_at'].dt.dayofweek + 1\n",
    "df_joins['month_name'] = df_joins['created_at'].dt.strftime('%B').str.capitalize()\n",
    "df_joins['date'] = df_joins['created_at'].dt.date"
   ]
  },
  {
   "cell_type": "code",
   "execution_count": 690,
   "id": "expressed-charlotte",
   "metadata": {},
   "outputs": [],
   "source": [
    "#Deixando apenas transações com financial_operation_type in ['capture','refund','chargeback_refund','chargeback']\n",
    "df_joins = df_joins.loc[df_joins['financial_operation_type'].isin(['capture','refund','chargeback_refund','chargeback'])]"
   ]
  },
  {
   "cell_type": "code",
   "execution_count": 691,
   "id": "ecological-pressing",
   "metadata": {},
   "outputs": [],
   "source": [
    "# Adicionando informação de Companies\n",
    "df_joins = pd.merge(\n",
    "    df_joins,\n",
    "    df_companies[['company_id','company_mcc','company_type']],\n",
    "    how=\"left\",\n",
    "    left_on=[\"company_id\"], \n",
    "    right_on=[\"company_id\"]\n",
    ")"
   ]
  },
  {
   "cell_type": "code",
   "execution_count": 692,
   "id": "continued-williams",
   "metadata": {},
   "outputs": [],
   "source": [
    "#Selecionando os campos solicitados nos requisitos para a view final\n",
    "view_final = df_joins[['transaction_id', 'payment_method', 'installments_range', 'financial_operation_type', 'created_at', 'date', 'month_name', 'day_of_week',\n",
    "          'company_id', 'company_mcc', 'company_type', 'product_name', 'acquirer_name', 'transaction_amount', 'mdr_fee', 'gateway_fee']]"
   ]
  },
  {
   "cell_type": "code",
   "execution_count": 693,
   "id": "advance-warrant",
   "metadata": {
    "tags": []
   },
   "outputs": [],
   "source": [
    "# alterando o tipo de cada campo da view, para os tipos informados nos requisitos\n",
    "view_final = view_final.astype(\n",
    "    {\n",
    "        \"transaction_id\": str, \n",
    "        \"payment_method\": str,\n",
    "        \"installments_range\": str,\n",
    "        \"financial_operation_type\": str,\n",
    "        \"month_name\": str,\n",
    "        \"day_of_week\": int,\n",
    "        \"company_id\": str,\n",
    "        \"company_mcc\": str,\n",
    "        \"company_type\": str,\n",
    "        \"product_name\": str,\n",
    "        \"acquirer_name\": str,\n",
    "        \"transaction_amount\": int,\n",
    "        \"mdr_fee\": int,\n",
    "        \"gateway_fee\": int\n",
    "    }\n",
    ")\n",
    "\n",
    "view_final['created_at']= pd.to_datetime(view_final['created_at'])\n",
    "view_final['date']= pd.to_datetime(view_final['date'])"
   ]
  },
  {
   "cell_type": "code",
   "execution_count": 694,
   "id": "collect-cylinder",
   "metadata": {},
   "outputs": [],
   "source": [
    "# Acessa planilha do sheets \n",
    "# OBS: Secret utilizada para acesso não estará no repositório do github, por segurança dos meus documentos no google.\n",
    "gc = pygsheets.authorize()\n",
    "sh = gc.open_by_key('1bZSb8-7RvOSLS80HxmgCLyH34tp7Cvo78AjgR7rQedA')\n",
    "wk = sh.worksheet_by_title('view_final')"
   ]
  },
  {
   "cell_type": "code",
   "execution_count": 695,
   "id": "democratic-technology",
   "metadata": {},
   "outputs": [],
   "source": [
    "# Carrega view_final no sheets\n",
    "wk.set_dataframe(view_final, f'A1')"
   ]
  },
  {
   "cell_type": "code",
   "execution_count": null,
   "id": "stable-bishop",
   "metadata": {},
   "outputs": [],
   "source": []
  }
 ],
 "metadata": {
  "kernelspec": {
   "display_name": "Python 3",
   "language": "python",
   "name": "python3"
  },
  "language_info": {
   "codemirror_mode": {
    "name": "ipython",
    "version": 3
   },
   "file_extension": ".py",
   "mimetype": "text/x-python",
   "name": "python",
   "nbconvert_exporter": "python",
   "pygments_lexer": "ipython3",
   "version": "3.9.2"
  }
 },
 "nbformat": 4,
 "nbformat_minor": 5
}
